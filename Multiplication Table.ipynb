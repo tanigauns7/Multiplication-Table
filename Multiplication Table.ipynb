{
 "cells": [
  {
   "cell_type": "code",
   "execution_count": null,
   "id": "1f3286bd",
   "metadata": {},
   "outputs": [],
   "source": [
    "def multiplication(b):\n",
    "    k=1\n",
    "    for i in range(-1, b * k + 1):\n",
    "        for j in range(-1, b * k  + 1):\n",
    "            c = j * i\n",
    "\n",
    "            if i == -1 and j == -1:\n",
    "                print(\"    \", end=' ')\n",
    "            elif i == -1:\n",
    "                print(f\"{j:2d}\", end='  ')\n",
    "            elif j == -1:\n",
    "                print(f\"{i:2d}\", end='  ')\n",
    "            else:\n",
    "                print(\" {:2d}\".format(c), end=' ')\n",
    "\n",
    "        print(\"\\n\")\n",
    "\n",
    "\n",
    "while True:\n",
    "    num = True\n",
    "    while num:\n",
    "        b = int(input(\"Enter a number (5-20):\"))\n",
    "\n",
    "        if 5 <= b <= 20:\n",
    "            multiplication(b)\n",
    "            break\n",
    "        else:\n",
    "            print(\"Please enter a number between 5 and 20.\")\n",
    "\n",
    "    while True:\n",
    "        c = input(\"Would you like to enter another number? (y/n):\")\n",
    "        if c == \"y\" or c == \"n\":\n",
    "            break\n",
    "        else:\n",
    "            print(\"Please enter 'y' for yes and 'n' for no.\")\n",
    "\n",
    "    if c == \"n\":\n",
    "        break"
   ]
  },
  {
   "cell_type": "code",
   "execution_count": null,
   "id": "33cfa97e",
   "metadata": {},
   "outputs": [],
   "source": []
  }
 ],
 "metadata": {
  "kernelspec": {
   "display_name": "Python 3 (ipykernel)",
   "language": "python",
   "name": "python3"
  },
  "language_info": {
   "codemirror_mode": {
    "name": "ipython",
    "version": 3
   },
   "file_extension": ".py",
   "mimetype": "text/x-python",
   "name": "python",
   "nbconvert_exporter": "python",
   "pygments_lexer": "ipython3",
   "version": "3.11.4"
  }
 },
 "nbformat": 4,
 "nbformat_minor": 5
}
